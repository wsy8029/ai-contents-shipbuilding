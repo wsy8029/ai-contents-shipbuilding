{
 "cells": [
  {
   "cell_type": "markdown",
   "metadata": {},
   "source": [
    "# 용접 궤적 추적 실습\n",
    "### 용접 결과물에서 직선으로 된 용접선을 추출하며, 직선이 아닐 경우 경보 알림이 울리게 됩니다."
   ]
  },
  {
   "cell_type": "markdown",
   "metadata": {},
   "source": [
    "# 1. 카메라 영상 출력\n",
    "PC 카메라를 통해 출력되는 영상을 약 5초간 출력합니다."
   ]
  },
  {
   "cell_type": "code",
   "execution_count": null,
   "metadata": {},
   "outputs": [],
   "source": [
    "import cv2\n",
    "from numpy import ndarray\n",
    "import numpy as np\n",
    "from PIL import Image\n",
    "from IPython import display as Idisplay\n",
    "from io import BytesIO\n",
    "from typing import List\n",
    "import time\n",
    "\n",
    "t1 = time.time()\n",
    "t2 = time.time()\n",
    "\n",
    "\n",
    "def array_to_image(frame: ndarray, format: str = 'jpeg'):\n",
    "    try:\n",
    "        # Create binary stream object\n",
    "        f = BytesIO()\n",
    "        # Convert array to binary stream object\n",
    "        Image.fromarray(frame).save(f, format)\n",
    "        return Idisplay.Image(data=f.getvalue())\n",
    "    except:\n",
    "        pass"
   ]
  },
  {
   "cell_type": "code",
   "execution_count": null,
   "metadata": {},
   "outputs": [],
   "source": [
    "cap = cv2.VideoCapture(0)\n",
    "cap.set(3,320)\n",
    "cap.set(4,240)\n",
    "\n",
    "d = Idisplay.display(\"Window\", display_id=1)\n",
    "d2 = Idisplay.display(\"Frame Rate\", display_id=2)\n",
    "\n",
    "for i in range(200):\n",
    "    try:\n",
    "        t1 = time.time()\n",
    "        _, frame = cap.read()\n",
    "        frame = cv2.flip(frame, 1)\n",
    "        frame = cv2.cvtColor(frame, cv2.COLOR_BGR2RGB)\n",
    "        im = array_to_image(frame)\n",
    "        t2 = time.time()\n",
    "        s = f\"{int(1 / (t2 - t1))} FPS\"\n",
    "        d.update(im)\n",
    "        d2.update(Idisplay.HTML(s))\n",
    "    except:\n",
    "        pass"
   ]
  },
  {
   "cell_type": "markdown",
   "metadata": {},
   "source": [
    "# 2. 윤곽선 추출\n",
    "촬영되는 영상에서 윤곽선만을 추출합니다."
   ]
  },
  {
   "cell_type": "code",
   "execution_count": null,
   "metadata": {},
   "outputs": [],
   "source": [
    "# 윤곽선 추출\n",
    "# Canny 이미지 처리함수\n",
    "def canny(image):\n",
    "    gray = cv2.cvtColor(image, cv2.COLOR_RGB2GRAY)\n",
    "    blur = cv2.GaussianBlur(gray, (5, 5), 0)\n",
    "    canny = cv2.Canny(blur, 50, 150)\n",
    "    return canny"
   ]
  },
  {
   "cell_type": "code",
   "execution_count": null,
   "metadata": {},
   "outputs": [],
   "source": [
    "cap = cv2.VideoCapture(0)\n",
    "cap.set(3,320)\n",
    "cap.set(4,240)\n",
    "\n",
    "d = Idisplay.display(\"Window\", display_id=1)\n",
    "d2 = Idisplay.display(\"Frame Rate\", display_id=2)\n",
    "\n",
    "for i in range(200):\n",
    "    try:\n",
    "        t1 = time.time()\n",
    "        _, frame = cap.read()\n",
    "        frame = cv2.flip(frame, 1)\n",
    "        frame = cv2.cvtColor(frame, cv2.COLOR_BGR2RGB)\n",
    "        frame = canny(frame)\n",
    "        im = array_to_image(frame)\n",
    "        t2 = time.time()\n",
    "        s = f\"{int(1 / (t2 - t1))} FPS\"\n",
    "        d.update(im)\n",
    "        d2.update(Idisplay.HTML(s))\n",
    "    except:\n",
    "        pass"
   ]
  },
  {
   "cell_type": "markdown",
   "metadata": {},
   "source": [
    "# 3. 직선 추출\n",
    "추출된 윤곽선에서 직선만을 골라 원본 화면 위에 표시합니다."
   ]
  },
  {
   "cell_type": "code",
   "execution_count": null,
   "metadata": {},
   "outputs": [],
   "source": [
    "def hough_transform(image):\n",
    "    rho = 7              #Distance resolution of the accumulator in pixels.\n",
    "    theta = np.pi/180    #Angle resolution of the accumulator in radians.\n",
    "    threshold = 200       #Only lines that are greater than threshold will be returned. 41\n",
    "    minLineLength = 200   #Line segments shorter than that are rejected. 25\n",
    "                         # 선의 최소 길이이다. 이보다 짧은 선분은 버려진다.\n",
    "    maxLineGap = 100     #Maximum allowed gap between points on the same line to link them 20\n",
    "                         # 단일 선으로 처리하기 위해 선분 간에 허용되는 최대 간격이다.\n",
    "    \n",
    "    return cv2.HoughLinesP(image, rho = rho, theta = theta, threshold = threshold,\n",
    "                           minLineLength = minLineLength, maxLineGap = maxLineGap)\n",
    "\n",
    "def t_display_lines(image, lines):\n",
    "    line_image = np.zeros_like(image)\n",
    "    if lines is not None:\n",
    "        for line in lines:\n",
    "            x1, y1, x2, y2 = line.reshape(4)\n",
    "            cv2.line(line_image, (x1, y1), (x2, y2), (255, 0, 0), 10)\n",
    "    return line_image"
   ]
  },
  {
   "cell_type": "code",
   "execution_count": null,
   "metadata": {},
   "outputs": [],
   "source": [
    "cap = cv2.VideoCapture(0)\n",
    "cap.set(3,320)\n",
    "cap.set(4,240)\n",
    "\n",
    "d = Idisplay.display(\"Window\", display_id=1)\n",
    "d2 = Idisplay.display(\"Frame Rate\", display_id=2)\n",
    "\n",
    "for i in range(200):\n",
    "    try:\n",
    "        t1 = time.time()\n",
    "        _, frame = cap.read()\n",
    "        cframe = frame.copy()\n",
    "        frame = cv2.flip(frame, 1)\n",
    "        frame = cv2.cvtColor(frame, cv2.COLOR_BGR2RGB)\n",
    "        cannyframe = canny(frame)\n",
    "#         lines = cv2.HoughLinesP(cannyframe, 1, np.pi/180, minLineLength=10, maxLindGap=10)\n",
    "        lines = hough_transform(cannyframe)\n",
    "        frame_lines = t_display_lines(frame, lines)\n",
    "        combo_image = cv2.addWeighted(frame, 0.8, frame_lines, 1, 1)\n",
    "        \n",
    "        im = array_to_image(combo_image)\n",
    "        t2 = time.time()\n",
    "        s = f\"{int(1 / (t2 - t1))} FPS\"\n",
    "        d.update(im)\n",
    "        d2.update(Idisplay.HTML(s))\n",
    "    except:\n",
    "        pass"
   ]
  },
  {
   "cell_type": "markdown",
   "metadata": {},
   "source": [
    "# 4. ROI(Region Of Interest) 설정\n",
    "전체 영상 화면 중 가운데 가로선 부분에 대해서만 직선을 추출하도록 영역을 지정합니다."
   ]
  },
  {
   "cell_type": "code",
   "execution_count": null,
   "metadata": {},
   "outputs": [],
   "source": [
    "def region_of_interest(image):\n",
    "    mask = np.zeros_like(image)\n",
    "    if len(image.shape) > 2:\n",
    "        channel_count = image.shape[2]\n",
    "        ignore_mask_color = (255,) * channel_count\n",
    "    else:\n",
    "        ignore_mask_color = 255\n",
    "    rows, cols = image.shape[:2]\n",
    "    \n",
    "    bottom_left  = [cols * 0, rows * 0.3]\n",
    "    top_left     = [cols * 0, rows * 0.7]\n",
    "    bottom_right = [cols * 1, rows * 0.3]\n",
    "    top_right    = [cols * 1, rows * 0.7]\n",
    "    \n",
    "    vertices = np.array([[bottom_left, top_left, top_right, bottom_right]], dtype=np.int32)\n",
    "    cv2.fillPoly(mask, vertices, ignore_mask_color)\n",
    "    masked_image = cv2.bitwise_and(image, mask)\n",
    "    return masked_image"
   ]
  },
  {
   "cell_type": "code",
   "execution_count": null,
   "metadata": {},
   "outputs": [],
   "source": [
    "cap = cv2.VideoCapture(0)\n",
    "cap.set(3,320)\n",
    "cap.set(4,240)\n",
    "\n",
    "d = Idisplay.display(\"Window\", display_id=1)\n",
    "d2 = Idisplay.display(\"Frame Rate\", display_id=2)\n",
    "\n",
    "for i in range(200):\n",
    "    try:\n",
    "        t1 = time.time()\n",
    "        _, frame = cap.read()\n",
    "        cframe = frame.copy()\n",
    "        frame = cv2.flip(frame, 1)\n",
    "        frame = cv2.cvtColor(frame, cv2.COLOR_BGR2RGB)\n",
    "        cannyframe = canny(frame)\n",
    "        cropframe = region_of_interest(cannyframe)\n",
    "        lines = hough_transform(cropframe)\n",
    "        frame_lines = t_display_lines(frame, lines)\n",
    "        combo_image = cv2.addWeighted(frame, 0.8, frame_lines, 1, 1)\n",
    "        \n",
    "        im = array_to_image(combo_image)\n",
    "        t2 = time.time()\n",
    "        s = f\"{int(1 / (t2 - t1))} FPS\"\n",
    "        d.update(im)\n",
    "        d2.update(Idisplay.HTML(s))\n",
    "    except:\n",
    "        pass"
   ]
  },
  {
   "cell_type": "markdown",
   "metadata": {},
   "source": [
    "# 6. 불완전 직선 검출 시 경보 알림 구현\n",
    "1. 3단계 직선추출 단계에서 사용한 houghlinesp 메서드 파라미터에는 직선으로 인식하기 위한 최소 길이, 단일 선으로 처리하기 위한 최대 간격 등이 있다.\n",
    "2. 이러한 파라미터들을 조정하여 완벽한 직선일 경우에만 직선이 추출되도록 할 수 있다.\n",
    "3. 추출된 직선의 개수를 통해 완벽한 직선(검출된 직선 개수 15개 이상)인지, 아니면 매끄럽지 못한 부분이 있는지 구분할 수 있다.\n",
    "4. 매끄럽지 못한 직선으로 판정될 경우, LED 모듈이 빨간색으로 켜지고, 스피커 모듈에서는 경보음이 울리게 된다."
   ]
  },
  {
   "cell_type": "code",
   "execution_count": null,
   "metadata": {},
   "outputs": [],
   "source": [
    "from IPython.display import display, clear_output\n",
    "import modi\n",
    "\n",
    "bundle = modi.MODI()\n",
    "led = bundle.leds[0]\n",
    "speaker = bundle.speakers[0]"
   ]
  },
  {
   "cell_type": "code",
   "execution_count": null,
   "metadata": {},
   "outputs": [],
   "source": [
    "cap = cv2.VideoCapture(0)\n",
    "cap.set(3,320)\n",
    "cap.set(4,240)\n",
    "\n",
    "d = Idisplay.display(\"Window\", display_id=1)\n",
    "d2 = Idisplay.display(\"Frame Rate\", display_id=2)\n",
    "d3 = Idisplay.display(\"Lines\", display_id=3)\n",
    "\n",
    "for i in range(5000):\n",
    "    try:\n",
    "        t1 = time.time()\n",
    "        _, frame = cap.read()\n",
    "        cframe = frame.copy()\n",
    "        frame = cv2.flip(frame, 1)\n",
    "        frame = cv2.cvtColor(frame, cv2.COLOR_BGR2RGB)\n",
    "        cannyframe = canny(frame)\n",
    "        cropframe = region_of_interest(cannyframe)\n",
    "        lines = hough_transform(cropframe)\n",
    "        \n",
    "        if len(lines < 15):\n",
    "            speaker.volume = 100\n",
    "            led.rgb = 255,0,0\n",
    "        else:\n",
    "            led.rgb = 0,0,255\n",
    "            speaker.turn_off()\n",
    "        \n",
    "        frame_lines = t_display_lines(frame, lines)\n",
    "        combo_image = cv2.addWeighted(frame, 0.8, frame_lines, 1, 1)\n",
    "        \n",
    "        im = array_to_image(combo_image)\n",
    "        t2 = time.time()\n",
    "        s = f\"{int(1 / (t2 - t1))} FPS\"\n",
    "        d.update(im)\n",
    "        d2.update(Idisplay.HTML(s))\n",
    "        d3.update(len(lines))\n",
    "    except:\n",
    "        pass"
   ]
  },
  {
   "cell_type": "code",
   "execution_count": null,
   "metadata": {},
   "outputs": [],
   "source": []
  }
 ],
 "metadata": {
  "kernelspec": {
   "display_name": "Python 3",
   "language": "python",
   "name": "python3"
  },
  "language_info": {
   "codemirror_mode": {
    "name": "ipython",
    "version": 3
   },
   "file_extension": ".py",
   "mimetype": "text/x-python",
   "name": "python",
   "nbconvert_exporter": "python",
   "pygments_lexer": "ipython3",
   "version": "3.8.10"
  }
 },
 "nbformat": 4,
 "nbformat_minor": 4
}
