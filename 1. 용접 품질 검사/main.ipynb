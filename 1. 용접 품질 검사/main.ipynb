{
 "cells": [
  {
   "cell_type": "markdown",
   "id": "aabfe72f",
   "metadata": {},
   "source": [
    "# 용접 품질 검사\n",
    "노이즈를 검출함으로써 용접 품질을 검사합니다."
   ]
  },
  {
   "cell_type": "markdown",
   "id": "8f10220c",
   "metadata": {},
   "source": [
    "# 1. 카메라 영상 스트리밍"
   ]
  },
  {
   "cell_type": "code",
   "execution_count": null,
   "id": "79d8be57",
   "metadata": {},
   "outputs": [],
   "source": [
    "import cv2\n",
    "from numpy import ndarray\n",
    "import numpy as np\n",
    "from PIL import Image\n",
    "from IPython import display as Idisplay\n",
    "from io import BytesIO\n",
    "from typing import List\n",
    "import time\n",
    "\n",
    "t1 = time.time()\n",
    "t2 = time.time()\n",
    "\n",
    "\n",
    "def array_to_image(frame: ndarray, format: str = 'jpeg'):\n",
    "    try:\n",
    "        # Create binary stream object\n",
    "        f = BytesIO()\n",
    "        # Convert array to binary stream object\n",
    "        Image.fromarray(frame).save(f, format)\n",
    "        return Idisplay.Image(data=f.getvalue())\n",
    "    except:\n",
    "        pass"
   ]
  },
  {
   "cell_type": "code",
   "execution_count": null,
   "id": "68da99ac",
   "metadata": {},
   "outputs": [],
   "source": [
    "cap = cv2.VideoCapture(0)\n",
    "cap.set(3,320)\n",
    "cap.set(4,240)\n",
    "\n",
    "d = Idisplay.display(\"Window\", display_id=1)\n",
    "d2 = Idisplay.display(\"Frame Rate\", display_id=2)\n",
    "\n",
    "for i in range(200):\n",
    "    try:\n",
    "        t1 = time.time()\n",
    "        _, frame = cap.read()\n",
    "        frame = cv2.flip(frame, 1)\n",
    "        frame = cv2.cvtColor(frame, cv2.COLOR_BGR2RGB)\n",
    "        im = array_to_image(frame)\n",
    "        t2 = time.time()\n",
    "        s = f\"{int(1 / (t2 - t1))} FPS\"\n",
    "        d.update(im)\n",
    "        d2.update(Idisplay.HTML(s))\n",
    "    except:\n",
    "        pass"
   ]
  },
  {
   "cell_type": "markdown",
   "id": "396f8f06",
   "metadata": {},
   "source": [
    "# 2. 그레이스케일 변환\n",
    "그레이스케일로 변환합니다."
   ]
  },
  {
   "cell_type": "code",
   "execution_count": null,
   "id": "300fa124",
   "metadata": {},
   "outputs": [],
   "source": [
    "cap = cv2.VideoCapture(0)\n",
    "cap.set(3,320)\n",
    "cap.set(4,240)\n",
    "\n",
    "d = Idisplay.display(\"Window\", display_id=1)\n",
    "d1 = Idisplay.display(\"Compare\", display_id=2)\n",
    "d2 = Idisplay.display(\"Frame Rate\", display_id=3)\n",
    "\n",
    "for i in range(200):\n",
    "    try:\n",
    "        t1 = time.time()\n",
    "        _, frame = cap.read()\n",
    "        frame = cv2.flip(frame, 1)\n",
    "        frame_gray = cv2.cvtColor(frame, cv2.COLOR_BGR2GRAY)\n",
    "        frame = cv2.cvtColor(frame, cv2.COLOR_BGR2RGB)\n",
    "        im = array_to_image(frame)\n",
    "        im2 = array_to_image(frame_gray)\n",
    "        t2 = time.time()\n",
    "        s = f\"{int(1 / (t2 - t1))} FPS\"\n",
    "        d.update(im)\n",
    "        d1.update(im2)\n",
    "        d2.update(Idisplay.HTML(s))\n",
    "    except:\n",
    "        pass"
   ]
  },
  {
   "cell_type": "markdown",
   "id": "b0cb4392",
   "metadata": {},
   "source": [
    "# 3. 노이즈 추가\n",
    "랜덤으로 노이즈를 만들어서 추가합니다."
   ]
  },
  {
   "cell_type": "markdown",
   "id": "d7a61d1f",
   "metadata": {},
   "source": [
    "## 가우시안 노이즈"
   ]
  },
  {
   "cell_type": "code",
   "execution_count": null,
   "id": "d34c608c",
   "metadata": {
    "scrolled": true
   },
   "outputs": [],
   "source": [
    "cap = cv2.VideoCapture(0)\n",
    "cap.set(3,320)\n",
    "cap.set(4,240)\n",
    "\n",
    "d = Idisplay.display(\"Window\", display_aid=1)\n",
    "d1 = Idisplay.display(\"Compare\", display_id=2)\n",
    "d2 = Idisplay.display(\"Frame Rate\", display_id=3)\n",
    "\n",
    "for i in range(200):\n",
    "    try:\n",
    "        t1 = time.time()\n",
    "        _, frame = cap.read()\n",
    "        frame = cv2.flip(frame, 1)\n",
    "        frame_gray = cv2.cvtColor(frame, cv2.COLOR_BGR2GRAY)\n",
    "        frame = cv2.cvtColor(frame, cv2.COLOR_BGR2RGB)\n",
    "        im = array_to_image(frame)\n",
    "        \n",
    "        gauss = np.random.normal(0,1,frame.size)\n",
    "        gauss = gauss.reshape(frame.shape[0],frame.shape[1],frame.shape[2]).astype('uint8')\n",
    "        # Add the Gaussian noise to the image\n",
    "        frame_gauss = cv2.add(frame,gauss)\n",
    "        \n",
    "        im2 = array_to_image(frame_gauss)\n",
    "        t2 = time.time()\n",
    "        s = f\"{int(1 / (t2 - t1))} FPS\"\n",
    "        d.update(im)\n",
    "        d1.update(im2)\n",
    "        d2.update(Idisplay.HTML(s))\n",
    "    except:\n",
    "        pass\n"
   ]
  },
  {
   "cell_type": "markdown",
   "id": "95912ffb",
   "metadata": {},
   "source": [
    "# 4. 노이즈 제거\n",
    "노이즈 제거 알고리즘을 통해 노이즈를 제거합니다."
   ]
  },
  {
   "cell_type": "code",
   "execution_count": null,
   "id": "b998b4b0",
   "metadata": {
    "scrolled": true
   },
   "outputs": [],
   "source": [
    "cap = cv2.VideoCapture(0)\n",
    "cap.set(3,320)\n",
    "cap.set(4,240)\n",
    "\n",
    "d = Idisplay.display(\"Window\", display_id=1)\n",
    "d1 = Idisplay.display(\"Compare\", display_id=2)\n",
    "d2 = Idisplay.display(\"Frame Rate\", display_id=3)\n",
    "\n",
    "for i in range(200):\n",
    "    try:\n",
    "        t1 = time.time()\n",
    "        _, frame = cap.read()\n",
    "        frame = cv2.flip(frame, 1)\n",
    "#         frame_gray = cv2.cvtColor(frame, cv2.COLOR_BGR2GRAY)\n",
    "        frame = cv2.cvtColor(frame, cv2.COLOR_BGR2RGB)\n",
    "#         denoframe = cv2.fastNlMeansDenoisingColored(frame)\n",
    "        denoframe = cv2.fastNlMeansDenoisingColored(frame,None,10,10,7,21)\n",
    "#         blurframe = cv2.medianBlur(frame, 5)\n",
    "        im = array_to_image(frame)\n",
    "        im2 = array_to_image(denoframe)\n",
    "        t2 = time.time()\n",
    "        s = f\"{int(1 / (t2 - t1))} FPS\"\n",
    "        d.update(im)\n",
    "        d1.update(im2)\n",
    "        d2.update(Idisplay.HTML(s))\n",
    "    except:\n",
    "        pass"
   ]
  },
  {
   "cell_type": "markdown",
   "id": "54d595fa",
   "metadata": {},
   "source": [
    "#### blur를 통해 노이즈를 제거합니다."
   ]
  },
  {
   "cell_type": "code",
   "execution_count": null,
   "id": "6be244d4",
   "metadata": {},
   "outputs": [],
   "source": [
    "cap = cv2.VideoCapture(0)\n",
    "cap.set(3,320)\n",
    "cap.set(4,240)\n",
    "\n",
    "d = Idisplay.display(\"Window\", display_id=1)\n",
    "d1 = Idisplay.display(\"Compare\", display_id=2)\n",
    "d2 = Idisplay.display(\"Frame Rate\", display_id=3)\n",
    "\n",
    "for i in range(200):\n",
    "    try:\n",
    "        t1 = time.time()\n",
    "        _, frame = cap.read()\n",
    "        frame = cv2.flip(frame, 1)\n",
    "        frame = cv2.cvtColor(frame, cv2.COLOR_BGR2RGB)\n",
    "#         denoframe = cv2.fastNlMeansDenoisingColored(frame,None,10,10,7,21)\n",
    "        blurframe = cv2.blur(frame,(12,12))\n",
    "        im = array_to_image(frame)\n",
    "        im2 = array_to_image(blurframe)\n",
    "        t2 = time.time()\n",
    "        s = f\"{int(1 / (t2 - t1))} FPS\"\n",
    "        d.update(im)\n",
    "        d1.update(im2)\n",
    "        d2.update(Idisplay.HTML(s))\n",
    "    except:\n",
    "        pass"
   ]
  }
 ],
 "metadata": {
  "kernelspec": {
   "display_name": "Python 3",
   "language": "python",
   "name": "python3"
  },
  "language_info": {
   "codemirror_mode": {
    "name": "ipython",
    "version": 3
   },
   "file_extension": ".py",
   "mimetype": "text/x-python",
   "name": "python",
   "nbconvert_exporter": "python",
   "pygments_lexer": "ipython3",
   "version": "3.8.10"
  }
 },
 "nbformat": 4,
 "nbformat_minor": 5
}
