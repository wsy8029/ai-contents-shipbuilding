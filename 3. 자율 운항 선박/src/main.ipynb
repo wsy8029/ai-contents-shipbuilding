{
 "cells": [
  {
   "cell_type": "markdown",
   "metadata": {},
   "source": [
    "# 자율주행 선박을 위한 AI 알고리즘 구현 실습"
   ]
  },
  {
   "cell_type": "markdown",
   "metadata": {},
   "source": [
    "<br /> <span style=\"font-family: Open Sans; color: red; font-weight: 800; font-size: 20px;\">코드 실행 안내</span>\n",
    "- 코드 실행 셀의 좌측에 있는 In[  ] 의 괄호 안에 * 가 표시된경우, 코드가 실행 중이라는 의미입니다.\n",
    "-  In[  ] 의 괄호 안에 숫자가 표시될때까지 기다려 주세요."
   ]
  },
  {
   "cell_type": "markdown",
   "metadata": {},
   "source": [
    "***\n",
    "# 0. MODI 모듈 준비 & 패키지 설치\n",
    "#### 이번 컨텐츠에는 아래와 같은 모듈이 필요합니다.\n",
    "- 입력 모듈\n",
    "    - Gyro 모듈\n",
    "    - Button 모듈\n",
    "- 출력 모듈\n",
    "    - Motor 모듈\n",
    "\n",
    "- 설정 모듈\n",
    "    - Network 모듈"
   ]
  },
  {
   "cell_type": "markdown",
   "metadata": {},
   "source": [
    "### 모듈 셋업\n",
    "\n",
    "1. 모터 모듈과 네트워크 모듈을 연결하고 자동차 형태로 조립합니다.\n",
    "2. 자이로 모듈과 버튼 모듈을 붙여 리모컨을 만듭니다.\n",
    "3. 긴 CAN 케이블을 사용하여 리모컨과 자동차의 네트워크 모듈을 연결합니다.\n",
    "4. 네트워크 모듈과 PC를 USB 케이블을 사용하여 연결합니다."
   ]
  },
  {
   "cell_type": "markdown",
   "metadata": {},
   "source": [
    "### pymodi와 tensorflow 설치하기\n",
    "pymodi와 tensorflow 모듈이 설치되어 있지 않은 경우 아래 코드를 실행하여 설치합니다.\n",
    "코드 블럭 좌측의 In[ ] 괄호 안의 * 가 숫자로 바뀐 후에 다음 코드를 실행하세요. \n",
    "- pymodi: MODI를 컨트롤하기 위한 API\n",
    "- tensorflow: 머신러닝을 위한 라이브러리"
   ]
  },
  {
   "cell_type": "code",
   "execution_count": null,
   "metadata": {},
   "outputs": [],
   "source": [
    "!python -m pip install pymodi --user\n",
    "!python -m pip install tensorflow --user"
   ]
  },
  {
   "cell_type": "markdown",
   "metadata": {},
   "source": [
    "***\n",
    "# 1. 데이터 수집\n",
    "## 학습에 사용할 데이터를 수집합니다. "
   ]
  },
  {
   "cell_type": "markdown",
   "metadata": {},
   "source": [
    "1-1. gathering_data 모듈과 Pymodi 패키지를 import합니다."
   ]
  },
  {
   "cell_type": "code",
   "execution_count": null,
   "metadata": {},
   "outputs": [],
   "source": [
    "from gathering_data import DataGathering\n",
    "import modi"
   ]
  },
  {
   "cell_type": "markdown",
   "metadata": {},
   "source": [
    "1-2. 모디 객체와 DataGathering 클래스 객체를 생성합니다."
   ]
  },
  {
   "cell_type": "markdown",
   "metadata": {},
   "source": [
    "MODI 객체를 생성합니다.\n",
    "Gyro, Button, Motor 모듈을 각각 gyro, btn, mot 변수에 할당합니다."
   ]
  },
  {
   "cell_type": "code",
   "execution_count": null,
   "metadata": {
    "scrolled": false
   },
   "outputs": [],
   "source": [
    "bundle = modi.MODI()\n",
    "\n",
    "gyro = bundle.gyros[0]\n",
    "btn = bundle.buttons[0]\n",
    "mot = bundle.motors[0]\n",
    "\n",
    "dg = DataGathering()"
   ]
  },
  {
   "cell_type": "markdown",
   "metadata": {},
   "source": [
    "1-3. go, back, left, right 4개 동작에 대한 데이터를 수집합니다. 파일 이름(go, back, left, right)을 입력하고, gathering_motion 메서드를 실행하여 데이터를 수집합니다. \n",
    "\n",
    "이 때 데이터 파일에는 자이로 모듈이 측정한 각 동작의 가속도와 회전 각도 값이 저장됩니다."
   ]
  },
  {
   "cell_type": "code",
   "execution_count": null,
   "metadata": {},
   "outputs": [],
   "source": [
    "filename = 'left' # 파일은 /data/go.csv 에 저장됩니다.\n",
    "dg.gathering_motion(btn, gyro, filename)"
   ]
  },
  {
   "cell_type": "markdown",
   "metadata": {},
   "source": [
    "1-4. 현재까지 수집된 데이터의 개수를 확인합니다."
   ]
  },
  {
   "cell_type": "code",
   "execution_count": null,
   "metadata": {},
   "outputs": [],
   "source": [
    "dg.check_data()"
   ]
  },
  {
   "cell_type": "markdown",
   "metadata": {},
   "source": [
    "# 2. 모델 학습"
   ]
  },
  {
   "cell_type": "markdown",
   "metadata": {},
   "source": [
    "## 수집한 데이터를 통해 학습 모델을 생성합니다."
   ]
  },
  {
   "cell_type": "markdown",
   "metadata": {},
   "source": [
    "2-1. gesture_detection 모듈을 import 합니다."
   ]
  },
  {
   "cell_type": "code",
   "execution_count": null,
   "metadata": {},
   "outputs": [],
   "source": [
    "from gesture_detection import DetectGesture"
   ]
  },
  {
   "cell_type": "markdown",
   "metadata": {},
   "source": [
    "2-2. DetectGesture 클래스 객체를 생성합니다."
   ]
  },
  {
   "cell_type": "code",
   "execution_count": null,
   "metadata": {},
   "outputs": [],
   "source": [
    "dg = DetectGesture()"
   ]
  },
  {
   "cell_type": "markdown",
   "metadata": {},
   "source": [
    "2-3. training_model 메서드를 실행하여 수집한 데이터를 사용하여 학습하고, 모델을 생성합니다."
   ]
  },
  {
   "cell_type": "code",
   "execution_count": null,
   "metadata": {},
   "outputs": [],
   "source": [
    "dg.training_model()"
   ]
  },
  {
   "cell_type": "markdown",
   "metadata": {},
   "source": [
    "# 3. 학습된 모델을 활용하여 자율주행 콘텐츠 제작"
   ]
  },
  {
   "cell_type": "markdown",
   "metadata": {},
   "source": [
    "## 생성된 모델을 활용하여 자율주행 콘텐츠를 제작합니다."
   ]
  },
  {
   "cell_type": "markdown",
   "metadata": {},
   "source": [
    "3-1. gesture_detection 모듈과 Pymodi 및 필수 패키지들을 import 합니다."
   ]
  },
  {
   "cell_type": "code",
   "execution_count": null,
   "metadata": {},
   "outputs": [],
   "source": [
    "from gesture_detection import DetectGesture\n",
    "from IPython.display import clear_output\n",
    "import modi\n",
    "import time"
   ]
  },
  {
   "cell_type": "markdown",
   "metadata": {},
   "source": [
    "3-2. 모디 객체와 DetectGesture 클래스 객체를 생성합니다."
   ]
  },
  {
   "cell_type": "markdown",
   "metadata": {},
   "source": [
    "MODI 객체를 생성합니다.\n",
    "Gyro, Button, Motor 모듈을 각각 gyro, btn, mot 변수에 할당합니다."
   ]
  },
  {
   "cell_type": "code",
   "execution_count": null,
   "metadata": {},
   "outputs": [],
   "source": [
    "bundle = modi.MODI()\n",
    "\n",
    "gyro = bundle.gyros[0]\n",
    "btn = bundle.buttons[0]\n",
    "mot = bundle.motors[0]"
   ]
  },
  {
   "cell_type": "code",
   "execution_count": null,
   "metadata": {},
   "outputs": [],
   "source": [
    "dg = DetectGesture()"
   ]
  },
  {
   "cell_type": "markdown",
   "metadata": {},
   "source": [
    "3-3. 반복문 안에 있는 사용자 코드 영역을 수정하여 모터 모듈이 움직이도록 코드를 작성합니다.\n",
    "\n",
    "코드를 실행하면 자이로 모듈이 수집한 데이터에 맞게 MODI 자동차가 움직이게 됩니다."
   ]
  },
  {
   "cell_type": "code",
   "execution_count": null,
   "metadata": {},
   "outputs": [],
   "source": [
    "while True:\n",
    "        time.sleep(0.1)\n",
    "        print(\"버튼을 더블클릭하면 출발합니다\")\n",
    "        clear_output(wait=True)\n",
    "        if btn.double_clicked:\n",
    "            print(\"출발!\")\n",
    "            mot.speed = 35, -35\n",
    "            time.sleep(0.1)\n",
    "            while True:\n",
    "                print(\"버튼을 눌러 데이터를 수집해보세요. 멈추려면 버튼을 더블클릭하세요.\", end='\\r')\n",
    "                if btn.clicked:\n",
    "                    pred = dg.predict(gyro, btn) #pred 변수에, 예측값을 받아와 저장합니다.\n",
    "                    time.sleep(0.1)\n",
    "                    # 사용자 코드 영역\n",
    "                    # =======================================================\n",
    "                    if pred == 'back':\n",
    "                        mot.speed = -30,30\n",
    "                        time.sleep(0.1)\n",
    "                        print('car : back!')\n",
    "                    elif pred == 'go':\n",
    "                        mot.speed = 30, -30\n",
    "                        time.sleep(0.1)\n",
    "                        print('car : go!')\n",
    "                    elif pred == 'left':\n",
    "                        mot.speed = 30, 30\n",
    "                        time.sleep(0.1)\n",
    "                        print('car : left!')\n",
    "                    elif pred == 'right':\n",
    "                        mot.speed = -30, -30\n",
    "                        time.sleep(0.1)\n",
    "                        print('car : right!')\n",
    "                    #=======================================================\n",
    "\n",
    "                time.sleep(0.1)\n",
    "                if btn.double_clicked:\n",
    "                    print(\"stop!\")\n",
    "                    mot.speed = 0, 0\n",
    "                    time.sleep(0.1)\n",
    "                    break"
   ]
  },
  {
   "cell_type": "code",
   "execution_count": null,
   "metadata": {},
   "outputs": [],
   "source": []
  }
 ],
 "metadata": {
  "kernelspec": {
   "display_name": "Python 3",
   "language": "python",
   "name": "python3"
  },
  "language_info": {
   "codemirror_mode": {
    "name": "ipython",
    "version": 3
   },
   "file_extension": ".py",
   "mimetype": "text/x-python",
   "name": "python",
   "nbconvert_exporter": "python",
   "pygments_lexer": "ipython3",
   "version": "3.7.6"
  }
 },
 "nbformat": 4,
 "nbformat_minor": 4
}
